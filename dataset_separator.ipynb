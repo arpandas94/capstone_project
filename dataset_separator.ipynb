{
 "cells": [
  {
   "cell_type": "markdown",
   "id": "bd1dd8d8",
   "metadata": {},
   "source": [
    "## Dataset separator"
   ]
  },
  {
   "cell_type": "code",
   "execution_count": 1,
   "id": "c382d22b",
   "metadata": {},
   "outputs": [
    {
     "data": {
      "text/html": [
       "<div>\n",
       "<style scoped>\n",
       "    .dataframe tbody tr th:only-of-type {\n",
       "        vertical-align: middle;\n",
       "    }\n",
       "\n",
       "    .dataframe tbody tr th {\n",
       "        vertical-align: top;\n",
       "    }\n",
       "\n",
       "    .dataframe thead th {\n",
       "        text-align: right;\n",
       "    }\n",
       "</style>\n",
       "<table border=\"1\" class=\"dataframe\">\n",
       "  <thead>\n",
       "    <tr style=\"text-align: right;\">\n",
       "      <th></th>\n",
       "      <th>Company</th>\n",
       "      <th>job_name</th>\n",
       "      <th>job_link</th>\n",
       "      <th>ML Labeled Function</th>\n",
       "      <th>city</th>\n",
       "      <th>country</th>\n",
       "      <th>Function</th>\n",
       "      <th>employment_type</th>\n",
       "      <th>remote</th>\n",
       "      <th>seniority level</th>\n",
       "      <th>Job Status</th>\n",
       "      <th>Date Reviewed</th>\n",
       "      <th>data analyst</th>\n",
       "      <th>company_Link</th>\n",
       "      <th>job_location</th>\n",
       "      <th>job_details</th>\n",
       "      <th>job_id</th>\n",
       "      <th>posting_error</th>\n",
       "      <th>description</th>\n",
       "    </tr>\n",
       "  </thead>\n",
       "  <tbody>\n",
       "    <tr>\n",
       "      <th>0</th>\n",
       "      <td>Spectrum</td>\n",
       "      <td>Outside Sales Representative | $5,000 Sign On ...</td>\n",
       "      <td>https://sjobs.brassring.com/TGnewUI/Search/hom...</td>\n",
       "      <td>Sales</td>\n",
       "      <td>Opelika</td>\n",
       "      <td>United States</td>\n",
       "      <td>Full-time</td>\n",
       "      <td>No</td>\n",
       "      <td>Mid-Senior Level</td>\n",
       "      <td>to be reviewed</td>\n",
       "      <td>NaN</td>\n",
       "      <td>NaN</td>\n",
       "      <td>NaN</td>\n",
       "      <td>$5,000 Sign On Bonus* + $2,500 training pay + ...</td>\n",
       "      <td>d74c82fb-27f8-435c-b54b-14ebccc7e9cd</td>\n",
       "      <td>NaN</td>\n",
       "      <td>https://www.smartrecruiters.com/Humanity/74399...</td>\n",
       "      <td>NaN</td>\n",
       "      <td>NaN</td>\n",
       "    </tr>\n",
       "    <tr>\n",
       "      <th>1</th>\n",
       "      <td>Spectrum</td>\n",
       "      <td>Sr Technical Writer</td>\n",
       "      <td>https://sjobs.brassring.com/TGnewUI/Search/hom...</td>\n",
       "      <td>Other</td>\n",
       "      <td>Englewood</td>\n",
       "      <td>United States</td>\n",
       "      <td>Full-time</td>\n",
       "      <td>No</td>\n",
       "      <td>Mid-Senior Level</td>\n",
       "      <td>to be reviewed</td>\n",
       "      <td>NaN</td>\n",
       "      <td>NaN</td>\n",
       "      <td>NaN</td>\n",
       "      <td>JOB SUMMARYThis position is responsible for de...</td>\n",
       "      <td>4175936f-1a2c-4635-a536-4348d5bf89f5</td>\n",
       "      <td>NaN</td>\n",
       "      <td>https://www.smartrecruiters.com/Humanity/74399...</td>\n",
       "      <td>NaN</td>\n",
       "      <td>NaN</td>\n",
       "    </tr>\n",
       "    <tr>\n",
       "      <th>2</th>\n",
       "      <td>Spectrum</td>\n",
       "      <td>Advertising Account Executive- New Business</td>\n",
       "      <td>https://sjobs.brassring.com/TGnewUI/Search/hom...</td>\n",
       "      <td>Sales</td>\n",
       "      <td>Bay City</td>\n",
       "      <td>United States</td>\n",
       "      <td>Full-time</td>\n",
       "      <td>No</td>\n",
       "      <td>Mid-Senior Level</td>\n",
       "      <td>to be reviewed</td>\n",
       "      <td>NaN</td>\n",
       "      <td>NaN</td>\n",
       "      <td>NaN</td>\n",
       "      <td>Tenacious go-getter. Inquisitive problem solve...</td>\n",
       "      <td>11a21cd7-86c2-48a4-96b9-83fc59e428c1</td>\n",
       "      <td>NaN</td>\n",
       "      <td>https://www.smartrecruiters.com/Humanity/74399...</td>\n",
       "      <td>NaN</td>\n",
       "      <td>NaN</td>\n",
       "    </tr>\n",
       "  </tbody>\n",
       "</table>\n",
       "</div>"
      ],
      "text/plain": [
       "    Company                                           job_name  \\\n",
       "0  Spectrum  Outside Sales Representative | $5,000 Sign On ...   \n",
       "1  Spectrum                                Sr Technical Writer   \n",
       "2  Spectrum        Advertising Account Executive- New Business   \n",
       "\n",
       "                                            job_link ML Labeled Function  \\\n",
       "0  https://sjobs.brassring.com/TGnewUI/Search/hom...               Sales   \n",
       "1  https://sjobs.brassring.com/TGnewUI/Search/hom...               Other   \n",
       "2  https://sjobs.brassring.com/TGnewUI/Search/hom...               Sales   \n",
       "\n",
       "        city        country   Function employment_type            remote  \\\n",
       "0    Opelika  United States  Full-time              No  Mid-Senior Level   \n",
       "1  Englewood  United States  Full-time              No  Mid-Senior Level   \n",
       "2   Bay City  United States  Full-time              No  Mid-Senior Level   \n",
       "\n",
       "  seniority level Job Status  Date Reviewed  data analyst  \\\n",
       "0  to be reviewed        NaN            NaN           NaN   \n",
       "1  to be reviewed        NaN            NaN           NaN   \n",
       "2  to be reviewed        NaN            NaN           NaN   \n",
       "\n",
       "                                        company_Link  \\\n",
       "0  $5,000 Sign On Bonus* + $2,500 training pay + ...   \n",
       "1  JOB SUMMARYThis position is responsible for de...   \n",
       "2  Tenacious go-getter. Inquisitive problem solve...   \n",
       "\n",
       "                           job_location job_details  \\\n",
       "0  d74c82fb-27f8-435c-b54b-14ebccc7e9cd         NaN   \n",
       "1  4175936f-1a2c-4635-a536-4348d5bf89f5         NaN   \n",
       "2  11a21cd7-86c2-48a4-96b9-83fc59e428c1         NaN   \n",
       "\n",
       "                                              job_id posting_error  \\\n",
       "0  https://www.smartrecruiters.com/Humanity/74399...           NaN   \n",
       "1  https://www.smartrecruiters.com/Humanity/74399...           NaN   \n",
       "2  https://www.smartrecruiters.com/Humanity/74399...           NaN   \n",
       "\n",
       "   description  \n",
       "0          NaN  \n",
       "1          NaN  \n",
       "2          NaN  "
      ]
     },
     "execution_count": 1,
     "metadata": {},
     "output_type": "execute_result"
    }
   ],
   "source": [
    "import pandas as pd\n",
    "import numpy as np\n",
    "\n",
    "data = pd.read_csv('Company_Dataset/jobs_details_all.csv')\n",
    "data.head(3)"
   ]
  },
  {
   "cell_type": "code",
   "execution_count": 2,
   "id": "4962e41c",
   "metadata": {},
   "outputs": [
    {
     "data": {
      "text/plain": [
       "Index(['Company', 'job_name', 'job_link', 'ML Labeled Function', 'city',\n",
       "       'country', 'Function', 'employment_type', 'remote', 'seniority level',\n",
       "       'Job Status', 'Date Reviewed', 'data analyst', 'company_Link',\n",
       "       'job_location', 'job_details', 'job_id', 'posting_error',\n",
       "       'description'],\n",
       "      dtype='object')"
      ]
     },
     "execution_count": 2,
     "metadata": {},
     "output_type": "execute_result"
    }
   ],
   "source": [
    "data.columns"
   ]
  },
  {
   "cell_type": "code",
   "execution_count": 3,
   "id": "cde1d05c",
   "metadata": {},
   "outputs": [
    {
     "data": {
      "text/plain": [
       "array(['Sales', 'Other', 'Writing/Editing', 'Engineering',\n",
       "       'Information Technology', 'Analyst', 'Human Resources',\n",
       "       'Customer Service', 'Project Management', 'Accounting/Auditing',\n",
       "       'Management', 'Production', 'Training', 'Public Relations',\n",
       "       'Product Management', 'Design', 'Education', 'Finance',\n",
       "       'General Business', 'Business Development', 'Marketing',\n",
       "       'Administrative', 'Art/Creative', 'Legal', 'Quality Assurance',\n",
       "       'Advertising', 'Purchasing', 'Science', 'Health Care Provider',\n",
       "       'Manufacturing', 'Strategy/Planning', 'Supply Chain', 'Research',\n",
       "       'Distribution'], dtype=object)"
      ]
     },
     "execution_count": 3,
     "metadata": {},
     "output_type": "execute_result"
    }
   ],
   "source": [
    "data['ML Labeled Function'].unique()"
   ]
  },
  {
   "cell_type": "code",
   "execution_count": 4,
   "id": "b1a3e32b",
   "metadata": {},
   "outputs": [
    {
     "data": {
      "text/html": [
       "<div>\n",
       "<style scoped>\n",
       "    .dataframe tbody tr th:only-of-type {\n",
       "        vertical-align: middle;\n",
       "    }\n",
       "\n",
       "    .dataframe tbody tr th {\n",
       "        vertical-align: top;\n",
       "    }\n",
       "\n",
       "    .dataframe thead th {\n",
       "        text-align: right;\n",
       "    }\n",
       "</style>\n",
       "<table border=\"1\" class=\"dataframe\">\n",
       "  <thead>\n",
       "    <tr style=\"text-align: right;\">\n",
       "      <th></th>\n",
       "      <th>Company</th>\n",
       "      <th>job_name</th>\n",
       "      <th>job_link</th>\n",
       "      <th>ML Labeled Function</th>\n",
       "      <th>city</th>\n",
       "      <th>country</th>\n",
       "      <th>Function</th>\n",
       "      <th>employment_type</th>\n",
       "      <th>remote</th>\n",
       "      <th>seniority level</th>\n",
       "      <th>Job Status</th>\n",
       "      <th>Date Reviewed</th>\n",
       "      <th>data analyst</th>\n",
       "      <th>company_Link</th>\n",
       "      <th>job_location</th>\n",
       "      <th>job_details</th>\n",
       "      <th>job_id</th>\n",
       "      <th>posting_error</th>\n",
       "      <th>description</th>\n",
       "    </tr>\n",
       "  </thead>\n",
       "  <tbody>\n",
       "    <tr>\n",
       "      <th>1</th>\n",
       "      <td>Spectrum</td>\n",
       "      <td>Sr Technical Writer</td>\n",
       "      <td>https://sjobs.brassring.com/TGnewUI/Search/hom...</td>\n",
       "      <td>Other</td>\n",
       "      <td>Englewood</td>\n",
       "      <td>United States</td>\n",
       "      <td>Full-time</td>\n",
       "      <td>No</td>\n",
       "      <td>Mid-Senior Level</td>\n",
       "      <td>to be reviewed</td>\n",
       "      <td>NaN</td>\n",
       "      <td>NaN</td>\n",
       "      <td>NaN</td>\n",
       "      <td>JOB SUMMARYThis position is responsible for de...</td>\n",
       "      <td>4175936f-1a2c-4635-a536-4348d5bf89f5</td>\n",
       "      <td>NaN</td>\n",
       "      <td>https://www.smartrecruiters.com/Humanity/74399...</td>\n",
       "      <td>NaN</td>\n",
       "      <td>NaN</td>\n",
       "    </tr>\n",
       "    <tr>\n",
       "      <th>4</th>\n",
       "      <td>Spectrum</td>\n",
       "      <td>Production Specialist I - Spectrum News 13 Orl...</td>\n",
       "      <td>https://sjobs.brassring.com/TGnewUI/Search/hom...</td>\n",
       "      <td>Other</td>\n",
       "      <td>Orlando</td>\n",
       "      <td>United States</td>\n",
       "      <td>Full-time</td>\n",
       "      <td>No</td>\n",
       "      <td>Mid-Senior Level</td>\n",
       "      <td>to be reviewed</td>\n",
       "      <td>NaN</td>\n",
       "      <td>NaN</td>\n",
       "      <td>NaN</td>\n",
       "      <td>Spectrum Networks is looking for enthusiastic,...</td>\n",
       "      <td>fc34ab5f-ee2d-4145-81c4-126f52b1df35</td>\n",
       "      <td>NaN</td>\n",
       "      <td>https://www.smartrecruiters.com/Humanity/74399...</td>\n",
       "      <td>NaN</td>\n",
       "      <td>NaN</td>\n",
       "    </tr>\n",
       "    <tr>\n",
       "      <th>7</th>\n",
       "      <td>Spectrum</td>\n",
       "      <td>Manager, Advanced Advertising Sales - Ad Sales</td>\n",
       "      <td>https://sjobs.brassring.com/TGnewUI/Search/hom...</td>\n",
       "      <td>Other</td>\n",
       "      <td>Los Angeles</td>\n",
       "      <td>United States</td>\n",
       "      <td>Full-time</td>\n",
       "      <td>No</td>\n",
       "      <td>Mid-Senior Level</td>\n",
       "      <td>to be reviewed</td>\n",
       "      <td>NaN</td>\n",
       "      <td>NaN</td>\n",
       "      <td>NaN</td>\n",
       "      <td>Spectrum Reach is looking for a dynamic Manage...</td>\n",
       "      <td>60391e39-17ba-4de2-a564-ede2412d6791</td>\n",
       "      <td>NaN</td>\n",
       "      <td>https://www.smartrecruiters.com/Humanity/74399...</td>\n",
       "      <td>NaN</td>\n",
       "      <td>NaN</td>\n",
       "    </tr>\n",
       "  </tbody>\n",
       "</table>\n",
       "</div>"
      ],
      "text/plain": [
       "    Company                                           job_name  \\\n",
       "1  Spectrum                                Sr Technical Writer   \n",
       "4  Spectrum  Production Specialist I - Spectrum News 13 Orl...   \n",
       "7  Spectrum     Manager, Advanced Advertising Sales - Ad Sales   \n",
       "\n",
       "                                            job_link ML Labeled Function  \\\n",
       "1  https://sjobs.brassring.com/TGnewUI/Search/hom...               Other   \n",
       "4  https://sjobs.brassring.com/TGnewUI/Search/hom...               Other   \n",
       "7  https://sjobs.brassring.com/TGnewUI/Search/hom...               Other   \n",
       "\n",
       "          city        country   Function employment_type            remote  \\\n",
       "1    Englewood  United States  Full-time              No  Mid-Senior Level   \n",
       "4      Orlando  United States  Full-time              No  Mid-Senior Level   \n",
       "7  Los Angeles  United States  Full-time              No  Mid-Senior Level   \n",
       "\n",
       "  seniority level Job Status  Date Reviewed  data analyst  \\\n",
       "1  to be reviewed        NaN            NaN           NaN   \n",
       "4  to be reviewed        NaN            NaN           NaN   \n",
       "7  to be reviewed        NaN            NaN           NaN   \n",
       "\n",
       "                                        company_Link  \\\n",
       "1  JOB SUMMARYThis position is responsible for de...   \n",
       "4  Spectrum Networks is looking for enthusiastic,...   \n",
       "7  Spectrum Reach is looking for a dynamic Manage...   \n",
       "\n",
       "                           job_location job_details  \\\n",
       "1  4175936f-1a2c-4635-a536-4348d5bf89f5         NaN   \n",
       "4  fc34ab5f-ee2d-4145-81c4-126f52b1df35         NaN   \n",
       "7  60391e39-17ba-4de2-a564-ede2412d6791         NaN   \n",
       "\n",
       "                                              job_id posting_error  \\\n",
       "1  https://www.smartrecruiters.com/Humanity/74399...           NaN   \n",
       "4  https://www.smartrecruiters.com/Humanity/74399...           NaN   \n",
       "7  https://www.smartrecruiters.com/Humanity/74399...           NaN   \n",
       "\n",
       "   description  \n",
       "1          NaN  \n",
       "4          NaN  \n",
       "7          NaN  "
      ]
     },
     "execution_count": 4,
     "metadata": {},
     "output_type": "execute_result"
    }
   ],
   "source": [
    "data_other = data[data['ML Labeled Function'] == \"Other\"]\n",
    "data_other.head(3)"
   ]
  },
  {
   "cell_type": "code",
   "execution_count": 5,
   "id": "a81bdc5c",
   "metadata": {},
   "outputs": [
    {
     "data": {
      "text/plain": [
       "array(['Other'], dtype=object)"
      ]
     },
     "execution_count": 5,
     "metadata": {},
     "output_type": "execute_result"
    }
   ],
   "source": [
    "data_other['ML Labeled Function'].unique()"
   ]
  },
  {
   "cell_type": "code",
   "execution_count": 6,
   "id": "0fce4373",
   "metadata": {},
   "outputs": [
    {
     "data": {
      "text/plain": [
       "(734, 19)"
      ]
     },
     "execution_count": 6,
     "metadata": {},
     "output_type": "execute_result"
    }
   ],
   "source": [
    "data_other.shape"
   ]
  },
  {
   "cell_type": "code",
   "execution_count": 7,
   "id": "08418154",
   "metadata": {},
   "outputs": [],
   "source": [
    "#data_other.to_csv('Company_Dataset/dataset_ml_labeled.csv',index=False) "
   ]
  },
  {
   "cell_type": "code",
   "execution_count": null,
   "id": "7984fdf7",
   "metadata": {},
   "outputs": [],
   "source": []
  }
 ],
 "metadata": {
  "kernelspec": {
   "display_name": "Python 3 (ipykernel)",
   "language": "python",
   "name": "python3"
  },
  "language_info": {
   "codemirror_mode": {
    "name": "ipython",
    "version": 3
   },
   "file_extension": ".py",
   "mimetype": "text/x-python",
   "name": "python",
   "nbconvert_exporter": "python",
   "pygments_lexer": "ipython3",
   "version": "3.9.6"
  }
 },
 "nbformat": 4,
 "nbformat_minor": 5
}
