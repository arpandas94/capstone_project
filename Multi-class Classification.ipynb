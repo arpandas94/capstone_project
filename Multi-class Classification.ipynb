{
 "cells": [
  {
   "cell_type": "code",
   "execution_count": 1,
   "id": "3d5465c1",
   "metadata": {},
   "outputs": [
    {
     "data": {
      "text/html": [
       "<div>\n",
       "<style scoped>\n",
       "    .dataframe tbody tr th:only-of-type {\n",
       "        vertical-align: middle;\n",
       "    }\n",
       "\n",
       "    .dataframe tbody tr th {\n",
       "        vertical-align: top;\n",
       "    }\n",
       "\n",
       "    .dataframe thead th {\n",
       "        text-align: right;\n",
       "    }\n",
       "</style>\n",
       "<table border=\"1\" class=\"dataframe\">\n",
       "  <thead>\n",
       "    <tr style=\"text-align: right;\">\n",
       "      <th></th>\n",
       "      <th>Company</th>\n",
       "      <th>job_name</th>\n",
       "      <th>job_link</th>\n",
       "      <th>ML Labeled Function</th>\n",
       "      <th>city</th>\n",
       "      <th>country</th>\n",
       "      <th>Function</th>\n",
       "      <th>employment_type</th>\n",
       "      <th>remote</th>\n",
       "      <th>seniority level</th>\n",
       "      <th>Job Status</th>\n",
       "      <th>Date Reviewed</th>\n",
       "      <th>data analyst</th>\n",
       "      <th>company_Link</th>\n",
       "      <th>job_location</th>\n",
       "      <th>job_details</th>\n",
       "      <th>job_id</th>\n",
       "      <th>posting_error</th>\n",
       "      <th>description</th>\n",
       "    </tr>\n",
       "  </thead>\n",
       "  <tbody>\n",
       "    <tr>\n",
       "      <th>0</th>\n",
       "      <td>Spectrum</td>\n",
       "      <td>Outside Sales Representative | $5,000 Sign On ...</td>\n",
       "      <td>https://sjobs.brassring.com/TGnewUI/Search/hom...</td>\n",
       "      <td>Sales</td>\n",
       "      <td>Opelika</td>\n",
       "      <td>United States</td>\n",
       "      <td>Full-time</td>\n",
       "      <td>No</td>\n",
       "      <td>Mid-Senior Level</td>\n",
       "      <td>to be reviewed</td>\n",
       "      <td>NaN</td>\n",
       "      <td>NaN</td>\n",
       "      <td>NaN</td>\n",
       "      <td>$5,000 Sign On Bonus* + $2,500 training pay + ...</td>\n",
       "      <td>d74c82fb-27f8-435c-b54b-14ebccc7e9cd</td>\n",
       "      <td>NaN</td>\n",
       "      <td>https://www.smartrecruiters.com/Humanity/74399...</td>\n",
       "      <td>NaN</td>\n",
       "      <td>NaN</td>\n",
       "    </tr>\n",
       "    <tr>\n",
       "      <th>1</th>\n",
       "      <td>Spectrum</td>\n",
       "      <td>Advertising Account Executive- New Business</td>\n",
       "      <td>https://sjobs.brassring.com/TGnewUI/Search/hom...</td>\n",
       "      <td>Sales</td>\n",
       "      <td>Bay City</td>\n",
       "      <td>United States</td>\n",
       "      <td>Full-time</td>\n",
       "      <td>No</td>\n",
       "      <td>Mid-Senior Level</td>\n",
       "      <td>to be reviewed</td>\n",
       "      <td>NaN</td>\n",
       "      <td>NaN</td>\n",
       "      <td>NaN</td>\n",
       "      <td>Tenacious go-getter. Inquisitive problem solve...</td>\n",
       "      <td>11a21cd7-86c2-48a4-96b9-83fc59e428c1</td>\n",
       "      <td>NaN</td>\n",
       "      <td>https://www.smartrecruiters.com/Humanity/74399...</td>\n",
       "      <td>NaN</td>\n",
       "      <td>NaN</td>\n",
       "    </tr>\n",
       "    <tr>\n",
       "      <th>2</th>\n",
       "      <td>Spectrum</td>\n",
       "      <td>Editor, Media Ingest - Spectrum News Raleigh</td>\n",
       "      <td>https://sjobs.brassring.com/TGnewUI/Search/hom...</td>\n",
       "      <td>Writing/Editing</td>\n",
       "      <td>Raleigh</td>\n",
       "      <td>United States</td>\n",
       "      <td>Full-time</td>\n",
       "      <td>No</td>\n",
       "      <td>Mid-Senior Level</td>\n",
       "      <td>to be reviewed</td>\n",
       "      <td>NaN</td>\n",
       "      <td>NaN</td>\n",
       "      <td>NaN</td>\n",
       "      <td>Spectrum Networks is looking for enthusiastic,...</td>\n",
       "      <td>8e3143f9-e449-49fa-b2b7-a8fd30234c82</td>\n",
       "      <td>NaN</td>\n",
       "      <td>https://www.smartrecruiters.com/Humanity/74399...</td>\n",
       "      <td>NaN</td>\n",
       "      <td>NaN</td>\n",
       "    </tr>\n",
       "  </tbody>\n",
       "</table>\n",
       "</div>"
      ],
      "text/plain": [
       "    Company                                           job_name  \\\n",
       "0  Spectrum  Outside Sales Representative | $5,000 Sign On ...   \n",
       "1  Spectrum        Advertising Account Executive- New Business   \n",
       "2  Spectrum       Editor, Media Ingest - Spectrum News Raleigh   \n",
       "\n",
       "                                            job_link ML Labeled Function  \\\n",
       "0  https://sjobs.brassring.com/TGnewUI/Search/hom...               Sales   \n",
       "1  https://sjobs.brassring.com/TGnewUI/Search/hom...               Sales   \n",
       "2  https://sjobs.brassring.com/TGnewUI/Search/hom...     Writing/Editing   \n",
       "\n",
       "       city        country   Function employment_type            remote  \\\n",
       "0   Opelika  United States  Full-time              No  Mid-Senior Level   \n",
       "1  Bay City  United States  Full-time              No  Mid-Senior Level   \n",
       "2   Raleigh  United States  Full-time              No  Mid-Senior Level   \n",
       "\n",
       "  seniority level Job Status  Date Reviewed  data analyst  \\\n",
       "0  to be reviewed        NaN            NaN           NaN   \n",
       "1  to be reviewed        NaN            NaN           NaN   \n",
       "2  to be reviewed        NaN            NaN           NaN   \n",
       "\n",
       "                                        company_Link  \\\n",
       "0  $5,000 Sign On Bonus* + $2,500 training pay + ...   \n",
       "1  Tenacious go-getter. Inquisitive problem solve...   \n",
       "2  Spectrum Networks is looking for enthusiastic,...   \n",
       "\n",
       "                           job_location job_details  \\\n",
       "0  d74c82fb-27f8-435c-b54b-14ebccc7e9cd         NaN   \n",
       "1  11a21cd7-86c2-48a4-96b9-83fc59e428c1         NaN   \n",
       "2  8e3143f9-e449-49fa-b2b7-a8fd30234c82         NaN   \n",
       "\n",
       "                                              job_id posting_error  \\\n",
       "0  https://www.smartrecruiters.com/Humanity/74399...           NaN   \n",
       "1  https://www.smartrecruiters.com/Humanity/74399...           NaN   \n",
       "2  https://www.smartrecruiters.com/Humanity/74399...           NaN   \n",
       "\n",
       "   description  \n",
       "0          NaN  \n",
       "1          NaN  \n",
       "2          NaN  "
      ]
     },
     "execution_count": 1,
     "metadata": {},
     "output_type": "execute_result"
    }
   ],
   "source": [
    "import pandas as pd\n",
    "import numpy as np\n",
    "\n",
    "data = pd.read_csv('Company_Dataset/dataset_ml_labeled.csv')\n",
    "data.head(3)"
   ]
  },
  {
   "cell_type": "code",
   "execution_count": 2,
   "id": "f97cce42",
   "metadata": {},
   "outputs": [
    {
     "data": {
      "text/plain": [
       "array(['Sales', 'Writing/Editing', 'Engineering',\n",
       "       'Information Technology', 'Analyst', 'Human Resources',\n",
       "       'Customer Service', 'Project Management', 'Accounting/Auditing',\n",
       "       'Management', 'Production', 'Training', 'Public Relations',\n",
       "       'Product Management', 'Design', 'Education', 'Finance',\n",
       "       'General Business', 'Business Development', 'Marketing',\n",
       "       'Administrative', 'Art/Creative', 'Legal', 'Quality Assurance',\n",
       "       'Advertising', 'Purchasing', 'Science', 'Health Care Provider',\n",
       "       'Manufacturing', 'Strategy/Planning', 'Supply Chain', 'Research',\n",
       "       'Distribution'], dtype=object)"
      ]
     },
     "execution_count": 2,
     "metadata": {},
     "output_type": "execute_result"
    }
   ],
   "source": [
    "data['ML Labeled Function'].unique()"
   ]
  },
  {
   "cell_type": "code",
   "execution_count": 3,
   "id": "cdb4351c",
   "metadata": {},
   "outputs": [
    {
     "data": {
      "text/html": [
       "<div>\n",
       "<style scoped>\n",
       "    .dataframe tbody tr th:only-of-type {\n",
       "        vertical-align: middle;\n",
       "    }\n",
       "\n",
       "    .dataframe tbody tr th {\n",
       "        vertical-align: top;\n",
       "    }\n",
       "\n",
       "    .dataframe thead th {\n",
       "        text-align: right;\n",
       "    }\n",
       "</style>\n",
       "<table border=\"1\" class=\"dataframe\">\n",
       "  <thead>\n",
       "    <tr style=\"text-align: right;\">\n",
       "      <th></th>\n",
       "      <th>company_Link</th>\n",
       "      <th>ML Labeled Function</th>\n",
       "    </tr>\n",
       "  </thead>\n",
       "  <tbody>\n",
       "    <tr>\n",
       "      <th>0</th>\n",
       "      <td>$5,000 Sign On Bonus* + $2,500 training pay + ...</td>\n",
       "      <td>Sales</td>\n",
       "    </tr>\n",
       "    <tr>\n",
       "      <th>1</th>\n",
       "      <td>Tenacious go-getter. Inquisitive problem solve...</td>\n",
       "      <td>Sales</td>\n",
       "    </tr>\n",
       "    <tr>\n",
       "      <th>2</th>\n",
       "      <td>Spectrum Networks is looking for enthusiastic,...</td>\n",
       "      <td>Writing/Editing</td>\n",
       "    </tr>\n",
       "  </tbody>\n",
       "</table>\n",
       "</div>"
      ],
      "text/plain": [
       "                                        company_Link ML Labeled Function\n",
       "0  $5,000 Sign On Bonus* + $2,500 training pay + ...               Sales\n",
       "1  Tenacious go-getter. Inquisitive problem solve...               Sales\n",
       "2  Spectrum Networks is looking for enthusiastic,...     Writing/Editing"
      ]
     },
     "execution_count": 3,
     "metadata": {},
     "output_type": "execute_result"
    }
   ],
   "source": [
    "data_class = data[['company_Link','ML Labeled Function']].copy()\n",
    "data_class.head(3)"
   ]
  },
  {
   "cell_type": "code",
   "execution_count": 4,
   "id": "fdcc2652",
   "metadata": {},
   "outputs": [
    {
     "data": {
      "text/plain": [
       "company_Link           166\n",
       "ML Labeled Function      0\n",
       "dtype: int64"
      ]
     },
     "execution_count": 4,
     "metadata": {},
     "output_type": "execute_result"
    }
   ],
   "source": [
    "data_class.isnull().sum()"
   ]
  },
  {
   "cell_type": "code",
   "execution_count": 6,
   "id": "b06c2cbc",
   "metadata": {},
   "outputs": [
    {
     "data": {
      "text/plain": [
       "company_Link           0\n",
       "ML Labeled Function    0\n",
       "dtype: int64"
      ]
     },
     "execution_count": 6,
     "metadata": {},
     "output_type": "execute_result"
    }
   ],
   "source": [
    "data_class = data_class.dropna()\n",
    "data_class.isnull().sum()"
   ]
  },
  {
   "cell_type": "markdown",
   "id": "fc32a6dd",
   "metadata": {},
   "source": [
    "## Preprocessing the text"
   ]
  },
  {
   "cell_type": "code",
   "execution_count": 7,
   "id": "c3fb6237",
   "metadata": {},
   "outputs": [
    {
     "data": {
      "text/html": [
       "<div>\n",
       "<style scoped>\n",
       "    .dataframe tbody tr th:only-of-type {\n",
       "        vertical-align: middle;\n",
       "    }\n",
       "\n",
       "    .dataframe tbody tr th {\n",
       "        vertical-align: top;\n",
       "    }\n",
       "\n",
       "    .dataframe thead th {\n",
       "        text-align: right;\n",
       "    }\n",
       "</style>\n",
       "<table border=\"1\" class=\"dataframe\">\n",
       "  <thead>\n",
       "    <tr style=\"text-align: right;\">\n",
       "      <th></th>\n",
       "      <th>company_Link</th>\n",
       "      <th>ML Labeled Function</th>\n",
       "    </tr>\n",
       "  </thead>\n",
       "  <tbody>\n",
       "    <tr>\n",
       "      <th>0</th>\n",
       "      <td>5 000 sign bonus + 2 500 training pay + unlimi...</td>\n",
       "      <td>Sales</td>\n",
       "    </tr>\n",
       "    <tr>\n",
       "      <th>1</th>\n",
       "      <td>tenacious gogetter inquisitive problem solver ...</td>\n",
       "      <td>Sales</td>\n",
       "    </tr>\n",
       "    <tr>\n",
       "      <th>2</th>\n",
       "      <td>spectrum networks looking enthusiastic talente...</td>\n",
       "      <td>Writing/Editing</td>\n",
       "    </tr>\n",
       "  </tbody>\n",
       "</table>\n",
       "</div>"
      ],
      "text/plain": [
       "                                        company_Link ML Labeled Function\n",
       "0  5 000 sign bonus + 2 500 training pay + unlimi...               Sales\n",
       "1  tenacious gogetter inquisitive problem solver ...               Sales\n",
       "2  spectrum networks looking enthusiastic talente...     Writing/Editing"
      ]
     },
     "execution_count": 7,
     "metadata": {},
     "output_type": "execute_result"
    }
   ],
   "source": [
    "import re\n",
    "from nltk.corpus import stopwords\n",
    "\n",
    "special_character_remover = re.compile('[/(){}\\[\\]\\|@,;]')\n",
    "extra_symbol_remover = re.compile('[^0-9a-z #+_]')\n",
    "STOPWORDS = set(stopwords.words('english'))\n",
    "\n",
    "def clean_text(text):\n",
    "    text = text.lower()\n",
    "    text = special_character_remover.sub(' ', text)\n",
    "    text = extra_symbol_remover.sub('', text)\n",
    "    text = ' '.join(word for word in text.split() if word not in STOPWORDS)\n",
    "    return text\n",
    "    \n",
    "data_class['company_Link'] = data_class['company_Link'].apply(clean_text)\n",
    "data_class.head(3)"
   ]
  },
  {
   "cell_type": "markdown",
   "id": "24f016f8",
   "metadata": {},
   "source": [
    "## Splitting the Dataset for Training and Testing"
   ]
  },
  {
   "cell_type": "code",
   "execution_count": 8,
   "id": "ec70a0f3",
   "metadata": {},
   "outputs": [
    {
     "data": {
      "text/plain": [
       "((2217,), (951,), (2217,), (951,))"
      ]
     },
     "execution_count": 8,
     "metadata": {},
     "output_type": "execute_result"
    }
   ],
   "source": [
    "from sklearn.model_selection import train_test_split\n",
    "X = data_class['company_Link']\n",
    "y = data_class['ML Labeled Function']\n",
    "X_train, X_test, y_train, y_test = train_test_split(X, y, test_size=0.3, random_state = 42)\n",
    "X_train.shape,X_test.shape,y_train.shape,y_test.shape"
   ]
  },
  {
   "cell_type": "code",
   "execution_count": 10,
   "id": "16690c7b",
   "metadata": {},
   "outputs": [],
   "source": [
    "from sklearn.feature_extraction.text import CountVectorizer, TfidfVectorizer\n",
    "from sklearn.metrics import accuracy_score"
   ]
  },
  {
   "cell_type": "markdown",
   "id": "8954acdd",
   "metadata": {},
   "source": [
    "## Logistic Regression"
   ]
  },
  {
   "cell_type": "code",
   "execution_count": 11,
   "id": "93a7527c",
   "metadata": {},
   "outputs": [
    {
     "name": "stdout",
     "output_type": "stream",
     "text": [
      "Accuracy is : 0.7917981072555205\n"
     ]
    }
   ],
   "source": [
    "from sklearn.linear_model import LogisticRegression\n",
    "from sklearn.pipeline import Pipeline\n",
    "from sklearn.feature_extraction.text import TfidfTransformer\n",
    "\n",
    "lr = Pipeline([('vect', CountVectorizer()),\n",
    "               ('tfidf', TfidfTransformer()),\n",
    "               ('clf', LogisticRegression()),\n",
    "              ])\n",
    "\n",
    "lr.fit(X_train,y_train)\n",
    "y_pred1 = lr.predict(X_test)\n",
    "\n",
    "print(f\"Accuracy is : {accuracy_score(y_pred1,y_test)}\")"
   ]
  },
  {
   "cell_type": "markdown",
   "id": "db00f09e",
   "metadata": {},
   "source": [
    "## Naive Bayes Classifier"
   ]
  },
  {
   "cell_type": "code",
   "execution_count": 12,
   "id": "afc58501",
   "metadata": {},
   "outputs": [
    {
     "name": "stdout",
     "output_type": "stream",
     "text": [
      "accuracy 0.6340694006309149\n"
     ]
    }
   ],
   "source": [
    "from sklearn.naive_bayes import MultinomialNB\n",
    "\n",
    "\n",
    "naivebayes = Pipeline([('vect', CountVectorizer()),\n",
    "               ('tfidf', TfidfTransformer()),\n",
    "               ('clf', MultinomialNB()),\n",
    "              ])\n",
    "naivebayes.fit(X_train, y_train)\n",
    "\n",
    "y_pred = naivebayes.predict(X_test)\n",
    "\n",
    "print(f'accuracy {accuracy_score(y_pred,y_test)}')"
   ]
  },
  {
   "cell_type": "markdown",
   "id": "e236f861",
   "metadata": {},
   "source": [
    "## Xgboost Classifier"
   ]
  },
  {
   "cell_type": "code",
   "execution_count": 15,
   "id": "b5f23420",
   "metadata": {},
   "outputs": [
    {
     "name": "stderr",
     "output_type": "stream",
     "text": [
      "c:\\users\\arpan\\appdata\\local\\programs\\python\\python39\\lib\\site-packages\\xgboost\\sklearn.py:1224: UserWarning: The use of label encoder in XGBClassifier is deprecated and will be removed in a future release. To remove this warning, do the following: 1) Pass option use_label_encoder=False when constructing XGBClassifier object; and 2) Encode your labels (y) as integers starting with 0, i.e. 0, 1, 2, ..., [num_class - 1].\n",
      "  warnings.warn(label_encoder_deprecation_msg, UserWarning)\n"
     ]
    },
    {
     "name": "stdout",
     "output_type": "stream",
     "text": [
      "[11:35:58] WARNING: C:/Users/Administrator/workspace/xgboost-win64_release_1.5.1/src/learner.cc:1115: Starting in XGBoost 1.3.0, the default evaluation metric used with the objective 'multi:softprob' was changed from 'merror' to 'mlogloss'. Explicitly set eval_metric if you'd like to restore the old behavior.\n",
      "accuracy 0.8496319663512093\n"
     ]
    }
   ],
   "source": [
    "from xgboost import XGBClassifier\n",
    "\n",
    "xgboost = Pipeline([('vect', CountVectorizer()),\n",
    "               ('tfidf', TfidfTransformer()),\n",
    "               ('clf', XGBClassifier()),\n",
    "              ])\n",
    "xgboost.fit(X_train, y_train)\n",
    "\n",
    "y_pred = xgboost.predict(X_test)\n",
    "\n",
    "print(f'accuracy {accuracy_score(y_pred,y_test)}')"
   ]
  },
  {
   "cell_type": "markdown",
   "id": "19510182",
   "metadata": {},
   "source": [
    "## Accuracies by models"
   ]
  },
  {
   "cell_type": "markdown",
   "id": "5c705cde",
   "metadata": {},
   "source": [
    "| Model | Accuracy |\n",
    "| --- | --- |\n",
    "| Logistic Regression | 79.2% |\n",
    "| Naive Bayes | 63.4% |\n",
    "| Xgboost Classifier | 84.9% |"
   ]
  },
  {
   "cell_type": "code",
   "execution_count": null,
   "id": "ffc6d1a2",
   "metadata": {},
   "outputs": [],
   "source": []
  }
 ],
 "metadata": {
  "kernelspec": {
   "display_name": "Python 3 (ipykernel)",
   "language": "python",
   "name": "python3"
  },
  "language_info": {
   "codemirror_mode": {
    "name": "ipython",
    "version": 3
   },
   "file_extension": ".py",
   "mimetype": "text/x-python",
   "name": "python",
   "nbconvert_exporter": "python",
   "pygments_lexer": "ipython3",
   "version": "3.9.6"
  }
 },
 "nbformat": 4,
 "nbformat_minor": 5
}
